{
 "cells": [
  {
   "cell_type": "markdown",
   "metadata": {},
   "source": [
    "# Fetch transcript"
   ]
  },
  {
   "cell_type": "code",
   "execution_count": 53,
   "metadata": {},
   "outputs": [],
   "source": [
    "from modules.youtube import fetch_youtube_transcript\n",
    "from modules.helpers import save_response_as_file\n",
    "from modules.helpers import num_tokens_from_string\n",
    "\n",
    "video_url = \"https://youtu.be/5HINgMMTzPE?si=geHQHMGVm9Atzg32\"\n",
    "transcript = fetch_youtube_transcript(video_url)"
   ]
  },
  {
   "cell_type": "code",
   "execution_count": 54,
   "metadata": {},
   "outputs": [],
   "source": [
    "from modules.youtube import get_video_metadata\n",
    "\n",
    "meta = get_video_metadata(video_url)\n",
    "video_title = meta['name']\n",
    "save_response_as_file(\"unprocessed_trancsript\", video_title, transcript)"
   ]
  },
  {
   "cell_type": "markdown",
   "metadata": {},
   "source": [
    "# Split transcript into chunks"
   ]
  },
  {
   "cell_type": "code",
   "execution_count": 55,
   "metadata": {},
   "outputs": [],
   "source": [
    "from langchain_text_splitters import RecursiveCharacterTextSplitter\n",
    "\n",
    "text_splitter = RecursiveCharacterTextSplitter(\n",
    "    # Set a really small chunk size, just to show.\n",
    "    chunk_size=4000,\n",
    "    chunk_overlap=16,\n",
    "    length_function=num_tokens_from_string,\n",
    "    is_separator_regex=False,\n",
    ")\n",
    "\n",
    "# Split the transcript into chunks \n",
    "transcript_excerpts = text_splitter.create_documents([transcript])"
   ]
  },
  {
   "cell_type": "code",
   "execution_count": 56,
   "metadata": {},
   "outputs": [
    {
     "name": "stdout",
     "output_type": "stream",
     "text": [
      "The transcript has 1371 tokens.\n"
     ]
    }
   ],
   "source": [
    "num_tokens_transcript = num_tokens_from_string(transcript, encoding_name=\"cl100k_base\")\n",
    "print(f\"The transcript has {num_tokens_transcript} tokens.\")"
   ]
  },
  {
   "cell_type": "markdown",
   "metadata": {},
   "source": [
    "# Initialize LLM and prompts"
   ]
  },
  {
   "cell_type": "code",
   "execution_count": 57,
   "metadata": {},
   "outputs": [],
   "source": [
    "from os import getenv\n",
    "from langchain_openai import ChatOpenAI\n",
    "from dotenv import load_dotenv\n",
    "\n",
    "load_dotenv()\n",
    "\n",
    "llm = ChatOpenAI(\n",
    "    api_key=getenv(\"OPENAI_API_KEY\"),\n",
    "    temperature=0.7,\n",
    "    model=\"gpt-3.5-turbo\",\n",
    "    max_tokens=4096\n",
    ")"
   ]
  },
  {
   "cell_type": "code",
   "execution_count": 58,
   "metadata": {},
   "outputs": [],
   "source": [
    "from langchain_core.prompts.chat import SystemMessage, HumanMessagePromptTemplate\n",
    "\n",
    "user_prompt = HumanMessagePromptTemplate.from_template(\n",
    "    \"\"\"Here is part {number}, delimited by ---\n",
    "\n",
    "    ---\n",
    "    {transcript_excerpt}\n",
    "    ---\n",
    "    \"\"\"\n",
    ")"
   ]
  },
  {
   "cell_type": "code",
   "execution_count": 59,
   "metadata": {},
   "outputs": [],
   "source": [
    "system_prompt = \"You are giong to receive excerpts from an automatically generated video transcript. Your task is to convert every excerpt into structured text. Ensure that the content of the excerpts remains unchanged. Add appropriate punctuation, correct any grammatical errors, remove filler words and divide the text into logical paragraphs, separating them with a single new line. The final output should be in plain text and only include the modified transcript excerpt without any prelude.\"\n",
    "print(\"Token number in system prompt: \" + str(num_tokens_from_string(system_prompt)))"
   ]
  },
  {
   "cell_type": "markdown",
   "metadata": {},
   "source": [
    "# Process transcript"
   ]
  },
  {
   "cell_type": "code",
   "execution_count": 63,
   "metadata": {},
   "outputs": [
    {
     "name": "stdout",
     "output_type": "stream",
     "text": [
      "Token number in system prompt: 85\n"
     ]
    }
   ],
   "source": [
    "batch_messages = []\n",
    "for num, excerpt in enumerate(transcript_excerpts):\n",
    "    batch_messages.append([\n",
    "        SystemMessage(content=system_prompt),\n",
    "        user_prompt.format(number=num, transcript_excerpt=excerpt.page_content)\n",
    "    ])\n",
    "response = llm.generate(batch_messages)"
   ]
  },
  {
   "cell_type": "code",
   "execution_count": 60,
   "metadata": {},
   "outputs": [
    {
     "name": "stdout",
     "output_type": "stream",
     "text": [
      "The question I often get is how long should I try to focus? Well, the research literature points to the key importance of so-called ultradian cycles. You've all probably heard of circadian cycles or circadian biology, circa, the day. Circadian is about a 24-hour cycle. Our brain and body operate within each and every day with 90-minute ultradian cycles. So my suggestion would be anytime you're going to sit down and try to focus, you're going to try to do a focused bout of physical exercise or skill learning or musical learning, or maybe you're even just having a conversation. Maybe you're a therapist or you're attending therapy or a class. How long should it be? And the ideal duration is about 90 minutes. Not exactly 90 minutes, but we can reliably say 90 minutes or less.\n",
      "\n",
      "Okay, it doesn't have to be the full 90 minutes, but trying to push yourself to be able to drop into two hours of focus or three hours of focus, while possible, is not really in line with what we know about the underlying biology. Everything from our sleep states or the different stages of sleep and our waking states is divided into these 90-minute cycles or so called ultradian cycles. So what I like to do is set a timer for 90 minutes. I acknowledge and accept the fact that under most conditions, unless I'm really pressed for a deadline and I'm optimally caffeinated, etc., the first five to 10 minutes of that 90 minutes are a transition time. It's like the warm-up for focus, but I do include it in that 90 minutes.\n",
      "\n",
      "Then I really try to drop into doing focused mental work or learning of some sort. Again, this could be physical as well, motor skill learning, or think of running or lifting weights, etc., and really try to drop into that across the full 90 minutes, again, accepting the fact that occasionally our focus will flicker. It will jump out of focus. And then a big part of being able to focus is to go back to focusing. The way I'd like you to conceptualize this perhaps is that arrowhead suddenly getting very broad, that you're focusing on many things or that arrow shifts to a different location in the room. The key is to be able to shift it back and to narrow it once again. And that's an active process, so much so that it requires a lot of metabolic energy.\n",
      "\n",
      "Your brain is the chief consumer of metabolic energy. The calories that you consume is so-called basal metabolic rate. Most of that isn't related to movement or heartbeat or breathing, it's related to brain function. Your brain is a glutton with respect to caloric need. So understand that at the end of 90 minutes, or maybe even after 45 minutes, you might feel rather tired or even exhausted. It's very important that after a bout of focus that you take at least 10 minutes, and ideally as long as 30 minutes, and go through what I call deliberate defocus.\n",
      "\n",
      "You really want to focus on somewhat menial tasks or things that really don't require a ton of your concentration. This is starting to become a little bit of a movement out there in the kind of pop psychology and optimization world. This idea of not looking at your phone as you walk down the hall to the bathroom, certainly not looking at your phone in the bathroom. And I should mention, by the way, this is a particular annoyance of mine. Have you noticed that wait times for restrooms in public places have increased substantially in the last 10 years? The reason for that is not digestive. It's not the gut microbiome. I mean, it might be the gut microbiome, but chances are it's because people are on their phones in the bathroom.\n",
      "\n",
      "So you're doing yourself and everybody else a favor by staying off your phone in the restroom, staying off your phone while walking down the hall. Try and give yourself some time to deliberately decompress, to let your mental states idle, to not be focused on any one thing. That period of idling is essential for your ability to focus, much in the same way that rest between sets of resistance training or rest between exercise is vital to being able to focus and perform during the actual sets or during the actual bouts of running or cycling or whatever your particular form of exercise might be.\n",
      "\n",
      "Deliberate decompression is key. And I know this is hard because we're all being drawn in by the incredible rich array of sensory information available on our phones and other devices. But I can't emphasize this enough. Our ability to focus is not just related to what happens during the entry and movement through those focus bouts, but after those focus bouts. We really need to deliberately decompress. And of course, the ultimate decompress, the time in which we are not directing our thinking interaction is during sleep.\n",
      "\n",
      "It's no wonder, or I should say it holds together logically, that that deep long-lasting duration of not controlling where our mind is at is in fact, the ultimate form of restoration even if we have very intense dreams. So take that period after each 90-minute or less focus bout. Remember those focus bouts don't have to be full 90 minutes. Let's see you do 45 minutes of work. You're just done with it, set it down, and go do something for maybe 5, 10, maybe even 30 minutes that is functional for your day, just not walking around in circles, or staring up at the sky, although if you can do that, do that.\n",
      "\n",
      "But most of us have other things to do but do things that are rather automatic or reflexive for you and try not to do any focused reading, try not to bring your vision into a tight location such as your phone and trying deliberately decompress because that will allow you to drop into intense bouts of focus again repeatedly and repeatedly throughout the day.\n"
     ]
    }
   ],
   "source": [
    "result =  \"\\n\\n\".join(gen[0].text for gen in response.generations)\n",
    "print(result)"
   ]
  },
  {
   "cell_type": "code",
   "execution_count": 61,
   "metadata": {},
   "outputs": [
    {
     "name": "stdout",
     "output_type": "stream",
     "text": [
      "The response has 1210 tokens.\n"
     ]
    }
   ],
   "source": [
    "num_tokens_response = num_tokens_from_string(result, encoding_name=\"cl100k_base\")\n",
    "print(f\"The response has {num_tokens_response} tokens.\")"
   ]
  },
  {
   "cell_type": "code",
   "execution_count": 65,
   "metadata": {},
   "outputs": [],
   "source": [
    "save_response_as_file(dir_name=\"transcripts_processed\", filename=video_title, file_content=result)"
   ]
  }
 ],
 "metadata": {
  "kernelspec": {
   "display_name": ".venv",
   "language": "python",
   "name": "python3"
  },
  "language_info": {
   "codemirror_mode": {
    "name": "ipython",
    "version": 3
   },
   "file_extension": ".py",
   "mimetype": "text/x-python",
   "name": "python",
   "nbconvert_exporter": "python",
   "pygments_lexer": "ipython3",
   "version": "3.12.3"
  }
 },
 "nbformat": 4,
 "nbformat_minor": 2
}
