{
 "cells": [
  {
   "cell_type": "code",
   "execution_count": 60,
   "metadata": {},
   "outputs": [],
   "source": [
    "import textwrap\n",
    "\n",
    "def print_wrapped(text: str, width: int = 128):\n",
    "    wrapped_content = textwrap.fill(text=text, width=width)\n",
    "    print(wrapped_content)"
   ]
  },
  {
   "cell_type": "markdown",
   "metadata": {},
   "source": [
    "# Set up SQLite\n",
    "\n",
    "It's useful to save some metadata about the video for future use."
   ]
  },
  {
   "cell_type": "code",
   "execution_count": 61,
   "metadata": {},
   "outputs": [],
   "source": [
    "from peewee import SqliteDatabase, Model, CharField, BooleanField, IntegerField, DateTimeField\n",
    "sql_db = SqliteDatabase('data/videos.sqlite3')"
   ]
  },
  {
   "cell_type": "code",
   "execution_count": 62,
   "metadata": {},
   "outputs": [],
   "source": [
    "class Video(Model):\n",
    "    yt_video_id = CharField(unique=True)\n",
    "    title = CharField()\n",
    "    language = CharField(null=True)\n",
    "    channel = CharField(null=True)\n",
    "    saved_on = DateTimeField(null=True)\n",
    "    preprocessed = BooleanField(null=True)\n",
    "    chunk_size = IntegerField(null=True)\n",
    "    transcript_token_num = IntegerField(null=True)\n",
    "\n",
    "    class Meta:\n",
    "        database = sql_db"
   ]
  },
  {
   "cell_type": "code",
   "execution_count": 63,
   "metadata": {},
   "outputs": [],
   "source": [
    "sql_db.connect()\n",
    "sql_db.create_tables([Video])"
   ]
  },
  {
   "cell_type": "code",
   "execution_count": 64,
   "metadata": {},
   "outputs": [
    {
     "name": "stdout",
     "output_type": "stream",
     "text": [
      "2024-06-08 13:52:58.690511\n"
     ]
    }
   ],
   "source": [
    "from datetime import datetime\n",
    "\n",
    "print(datetime.now())"
   ]
  },
  {
   "cell_type": "code",
   "execution_count": null,
   "metadata": {},
   "outputs": [],
   "source": [
    "sql_db.close()"
   ]
  },
  {
   "cell_type": "markdown",
   "metadata": {},
   "source": [
    "# Fetch transcript"
   ]
  },
  {
   "cell_type": "code",
   "execution_count": 65,
   "metadata": {},
   "outputs": [],
   "source": [
    "from modules.youtube import fetch_youtube_transcript, extract_youtube_video_id\n",
    "from modules.helpers import save_response_as_file\n",
    "from modules.helpers import num_tokens_from_string\n",
    "\n",
    "video_url = \"https://youtu.be/Jz8Gs4UHTO8?si=y3Fwkehso7pJ0RO1\"\n",
    "video_id = extract_youtube_video_id(video_url)\n",
    "transcript = fetch_youtube_transcript(video_url)"
   ]
  },
  {
   "cell_type": "code",
   "execution_count": 66,
   "metadata": {},
   "outputs": [
    {
     "name": "stdout",
     "output_type": "stream",
     "text": [
      "Big Misconceptions about Bare Metal, Virtual Machines, and Containers\n"
     ]
    }
   ],
   "source": [
    "from modules.youtube import get_video_metadata\n",
    "\n",
    "meta = get_video_metadata(video_url)\n",
    "video_title = meta['name']\n",
    "print(video_title)\n",
    "save_response_as_file(\"transcripts\", video_title, transcript)"
   ]
  },
  {
   "cell_type": "code",
   "execution_count": 69,
   "metadata": {},
   "outputs": [
    {
     "ename": "IntegrityError",
     "evalue": "UNIQUE constraint failed: video.yt_video_id",
     "output_type": "error",
     "traceback": [
      "\u001b[0;31m---------------------------------------------------------------------------\u001b[0m",
      "\u001b[0;31mIntegrityError\u001b[0m                            Traceback (most recent call last)",
      "File \u001b[0;32m~/Projects/Personal/ytai/.venv/lib/python3.12/site-packages/peewee.py:3311\u001b[0m, in \u001b[0;36mDatabase.execute_sql\u001b[0;34m(self, sql, params, commit)\u001b[0m\n\u001b[1;32m   3310\u001b[0m     cursor \u001b[38;5;241m=\u001b[39m \u001b[38;5;28mself\u001b[39m\u001b[38;5;241m.\u001b[39mcursor()\n\u001b[0;32m-> 3311\u001b[0m     \u001b[43mcursor\u001b[49m\u001b[38;5;241;43m.\u001b[39;49m\u001b[43mexecute\u001b[49m\u001b[43m(\u001b[49m\u001b[43msql\u001b[49m\u001b[43m,\u001b[49m\u001b[43m \u001b[49m\u001b[43mparams\u001b[49m\u001b[43m \u001b[49m\u001b[38;5;129;43;01mor\u001b[39;49;00m\u001b[43m \u001b[49m\u001b[43m(\u001b[49m\u001b[43m)\u001b[49m\u001b[43m)\u001b[49m\n\u001b[1;32m   3312\u001b[0m \u001b[38;5;28;01mreturn\u001b[39;00m cursor\n",
      "\u001b[0;31mIntegrityError\u001b[0m: UNIQUE constraint failed: video.yt_video_id",
      "\nDuring handling of the above exception, another exception occurred:\n",
      "\u001b[0;31mIntegrityError\u001b[0m                            Traceback (most recent call last)",
      "Cell \u001b[0;32mIn[69], line 1\u001b[0m\n\u001b[0;32m----> 1\u001b[0m video \u001b[38;5;241m=\u001b[39m \u001b[43mVideo\u001b[49m\u001b[38;5;241;43m.\u001b[39;49m\u001b[43mcreate\u001b[49m\u001b[43m(\u001b[49m\n\u001b[1;32m      2\u001b[0m \u001b[43m    \u001b[49m\u001b[43myt_video_id\u001b[49m\u001b[43m \u001b[49m\u001b[38;5;241;43m=\u001b[39;49m\u001b[43m \u001b[49m\u001b[43mvideo_id\u001b[49m\u001b[43m,\u001b[49m\n\u001b[1;32m      3\u001b[0m \u001b[43m    \u001b[49m\u001b[43mtitle\u001b[49m\u001b[43m \u001b[49m\u001b[38;5;241;43m=\u001b[39;49m\u001b[43m \u001b[49m\u001b[43mvideo_title\u001b[49m\u001b[43m,\u001b[49m\n\u001b[1;32m      4\u001b[0m \u001b[43m    \u001b[49m\u001b[43mchannel\u001b[49m\u001b[43m \u001b[49m\u001b[38;5;241;43m=\u001b[39;49m\u001b[43m \u001b[49m\u001b[43mmeta\u001b[49m\u001b[43m[\u001b[49m\u001b[38;5;124;43m'\u001b[39;49m\u001b[38;5;124;43mchannel\u001b[39;49m\u001b[38;5;124;43m'\u001b[39;49m\u001b[43m]\u001b[49m\n\u001b[1;32m      5\u001b[0m \u001b[43m)\u001b[49m\n",
      "File \u001b[0;32m~/Projects/Personal/ytai/.venv/lib/python3.12/site-packages/peewee.py:6730\u001b[0m, in \u001b[0;36mModel.create\u001b[0;34m(cls, **query)\u001b[0m\n\u001b[1;32m   6727\u001b[0m \u001b[38;5;129m@classmethod\u001b[39m\n\u001b[1;32m   6728\u001b[0m \u001b[38;5;28;01mdef\u001b[39;00m \u001b[38;5;21mcreate\u001b[39m(\u001b[38;5;28mcls\u001b[39m, \u001b[38;5;241m*\u001b[39m\u001b[38;5;241m*\u001b[39mquery):\n\u001b[1;32m   6729\u001b[0m     inst \u001b[38;5;241m=\u001b[39m \u001b[38;5;28mcls\u001b[39m(\u001b[38;5;241m*\u001b[39m\u001b[38;5;241m*\u001b[39mquery)\n\u001b[0;32m-> 6730\u001b[0m     \u001b[43minst\u001b[49m\u001b[38;5;241;43m.\u001b[39;49m\u001b[43msave\u001b[49m\u001b[43m(\u001b[49m\u001b[43mforce_insert\u001b[49m\u001b[38;5;241;43m=\u001b[39;49m\u001b[38;5;28;43;01mTrue\u001b[39;49;00m\u001b[43m)\u001b[49m\n\u001b[1;32m   6731\u001b[0m     \u001b[38;5;28;01mreturn\u001b[39;00m inst\n",
      "File \u001b[0;32m~/Projects/Personal/ytai/.venv/lib/python3.12/site-packages/peewee.py:6940\u001b[0m, in \u001b[0;36mModel.save\u001b[0;34m(self, force_insert, only)\u001b[0m\n\u001b[1;32m   6938\u001b[0m     rows \u001b[38;5;241m=\u001b[39m \u001b[38;5;28mself\u001b[39m\u001b[38;5;241m.\u001b[39mupdate(\u001b[38;5;241m*\u001b[39m\u001b[38;5;241m*\u001b[39mfield_dict)\u001b[38;5;241m.\u001b[39mwhere(\u001b[38;5;28mself\u001b[39m\u001b[38;5;241m.\u001b[39m_pk_expr())\u001b[38;5;241m.\u001b[39mexecute()\n\u001b[1;32m   6939\u001b[0m \u001b[38;5;28;01melif\u001b[39;00m pk_field \u001b[38;5;129;01mis\u001b[39;00m \u001b[38;5;129;01mnot\u001b[39;00m \u001b[38;5;28;01mNone\u001b[39;00m:\n\u001b[0;32m-> 6940\u001b[0m     pk \u001b[38;5;241m=\u001b[39m \u001b[38;5;28;43mself\u001b[39;49m\u001b[38;5;241;43m.\u001b[39;49m\u001b[43minsert\u001b[49m\u001b[43m(\u001b[49m\u001b[38;5;241;43m*\u001b[39;49m\u001b[38;5;241;43m*\u001b[39;49m\u001b[43mfield_dict\u001b[49m\u001b[43m)\u001b[49m\u001b[38;5;241;43m.\u001b[39;49m\u001b[43mexecute\u001b[49m\u001b[43m(\u001b[49m\u001b[43m)\u001b[49m\n\u001b[1;32m   6941\u001b[0m     \u001b[38;5;28;01mif\u001b[39;00m pk \u001b[38;5;129;01mis\u001b[39;00m \u001b[38;5;129;01mnot\u001b[39;00m \u001b[38;5;28;01mNone\u001b[39;00m \u001b[38;5;129;01mand\u001b[39;00m (\u001b[38;5;28mself\u001b[39m\u001b[38;5;241m.\u001b[39m_meta\u001b[38;5;241m.\u001b[39mauto_increment \u001b[38;5;129;01mor\u001b[39;00m\n\u001b[1;32m   6942\u001b[0m                            pk_value \u001b[38;5;129;01mis\u001b[39;00m \u001b[38;5;28;01mNone\u001b[39;00m):\n\u001b[1;32m   6943\u001b[0m         \u001b[38;5;28mself\u001b[39m\u001b[38;5;241m.\u001b[39m_pk \u001b[38;5;241m=\u001b[39m pk\n",
      "File \u001b[0;32m~/Projects/Personal/ytai/.venv/lib/python3.12/site-packages/peewee.py:2025\u001b[0m, in \u001b[0;36mdatabase_required.<locals>.inner\u001b[0;34m(self, database, *args, **kwargs)\u001b[0m\n\u001b[1;32m   2022\u001b[0m \u001b[38;5;28;01mif\u001b[39;00m \u001b[38;5;129;01mnot\u001b[39;00m database:\n\u001b[1;32m   2023\u001b[0m     \u001b[38;5;28;01mraise\u001b[39;00m InterfaceError(\u001b[38;5;124m'\u001b[39m\u001b[38;5;124mQuery must be bound to a database in order \u001b[39m\u001b[38;5;124m'\u001b[39m\n\u001b[1;32m   2024\u001b[0m                          \u001b[38;5;124m'\u001b[39m\u001b[38;5;124mto call \u001b[39m\u001b[38;5;124m\"\u001b[39m\u001b[38;5;132;01m%s\u001b[39;00m\u001b[38;5;124m\"\u001b[39m\u001b[38;5;124m.\u001b[39m\u001b[38;5;124m'\u001b[39m \u001b[38;5;241m%\u001b[39m method\u001b[38;5;241m.\u001b[39m\u001b[38;5;18m__name__\u001b[39m)\n\u001b[0;32m-> 2025\u001b[0m \u001b[38;5;28;01mreturn\u001b[39;00m \u001b[43mmethod\u001b[49m\u001b[43m(\u001b[49m\u001b[38;5;28;43mself\u001b[39;49m\u001b[43m,\u001b[49m\u001b[43m \u001b[49m\u001b[43mdatabase\u001b[49m\u001b[43m,\u001b[49m\u001b[43m \u001b[49m\u001b[38;5;241;43m*\u001b[39;49m\u001b[43margs\u001b[49m\u001b[43m,\u001b[49m\u001b[43m \u001b[49m\u001b[38;5;241;43m*\u001b[39;49m\u001b[38;5;241;43m*\u001b[39;49m\u001b[43mkwargs\u001b[49m\u001b[43m)\u001b[49m\n",
      "File \u001b[0;32m~/Projects/Personal/ytai/.venv/lib/python3.12/site-packages/peewee.py:2096\u001b[0m, in \u001b[0;36mBaseQuery.execute\u001b[0;34m(self, database)\u001b[0m\n\u001b[1;32m   2094\u001b[0m \u001b[38;5;129m@database_required\u001b[39m\n\u001b[1;32m   2095\u001b[0m \u001b[38;5;28;01mdef\u001b[39;00m \u001b[38;5;21mexecute\u001b[39m(\u001b[38;5;28mself\u001b[39m, database):\n\u001b[0;32m-> 2096\u001b[0m     \u001b[38;5;28;01mreturn\u001b[39;00m \u001b[38;5;28;43mself\u001b[39;49m\u001b[38;5;241;43m.\u001b[39;49m\u001b[43m_execute\u001b[49m\u001b[43m(\u001b[49m\u001b[43mdatabase\u001b[49m\u001b[43m)\u001b[49m\n",
      "File \u001b[0;32m~/Projects/Personal/ytai/.venv/lib/python3.12/site-packages/peewee.py:2901\u001b[0m, in \u001b[0;36mInsert._execute\u001b[0;34m(self, database)\u001b[0m\n\u001b[1;32m   2899\u001b[0m     \u001b[38;5;28mself\u001b[39m\u001b[38;5;241m.\u001b[39m_returning \u001b[38;5;241m=\u001b[39m (\u001b[38;5;28mself\u001b[39m\u001b[38;5;241m.\u001b[39mtable\u001b[38;5;241m.\u001b[39m_primary_key,)\n\u001b[1;32m   2900\u001b[0m \u001b[38;5;28;01mtry\u001b[39;00m:\n\u001b[0;32m-> 2901\u001b[0m     \u001b[38;5;28;01mreturn\u001b[39;00m \u001b[38;5;28;43msuper\u001b[39;49m\u001b[43m(\u001b[49m\u001b[43mInsert\u001b[49m\u001b[43m,\u001b[49m\u001b[43m \u001b[49m\u001b[38;5;28;43mself\u001b[39;49m\u001b[43m)\u001b[49m\u001b[38;5;241;43m.\u001b[39;49m\u001b[43m_execute\u001b[49m\u001b[43m(\u001b[49m\u001b[43mdatabase\u001b[49m\u001b[43m)\u001b[49m\n\u001b[1;32m   2902\u001b[0m \u001b[38;5;28;01mexcept\u001b[39;00m \u001b[38;5;28mself\u001b[39m\u001b[38;5;241m.\u001b[39mDefaultValuesException:\n\u001b[1;32m   2903\u001b[0m     \u001b[38;5;28;01mpass\u001b[39;00m\n",
      "File \u001b[0;32m~/Projects/Personal/ytai/.venv/lib/python3.12/site-packages/peewee.py:2614\u001b[0m, in \u001b[0;36m_WriteQuery._execute\u001b[0;34m(self, database)\u001b[0m\n\u001b[1;32m   2612\u001b[0m     cursor \u001b[38;5;241m=\u001b[39m \u001b[38;5;28mself\u001b[39m\u001b[38;5;241m.\u001b[39mexecute_returning(database)\n\u001b[1;32m   2613\u001b[0m \u001b[38;5;28;01melse\u001b[39;00m:\n\u001b[0;32m-> 2614\u001b[0m     cursor \u001b[38;5;241m=\u001b[39m \u001b[43mdatabase\u001b[49m\u001b[38;5;241;43m.\u001b[39;49m\u001b[43mexecute\u001b[49m\u001b[43m(\u001b[49m\u001b[38;5;28;43mself\u001b[39;49m\u001b[43m)\u001b[49m\n\u001b[1;32m   2615\u001b[0m \u001b[38;5;28;01mreturn\u001b[39;00m \u001b[38;5;28mself\u001b[39m\u001b[38;5;241m.\u001b[39mhandle_result(database, cursor)\n",
      "File \u001b[0;32m~/Projects/Personal/ytai/.venv/lib/python3.12/site-packages/peewee.py:3319\u001b[0m, in \u001b[0;36mDatabase.execute\u001b[0;34m(self, query, commit, **context_options)\u001b[0m\n\u001b[1;32m   3317\u001b[0m ctx \u001b[38;5;241m=\u001b[39m \u001b[38;5;28mself\u001b[39m\u001b[38;5;241m.\u001b[39mget_sql_context(\u001b[38;5;241m*\u001b[39m\u001b[38;5;241m*\u001b[39mcontext_options)\n\u001b[1;32m   3318\u001b[0m sql, params \u001b[38;5;241m=\u001b[39m ctx\u001b[38;5;241m.\u001b[39msql(query)\u001b[38;5;241m.\u001b[39mquery()\n\u001b[0;32m-> 3319\u001b[0m \u001b[38;5;28;01mreturn\u001b[39;00m \u001b[38;5;28;43mself\u001b[39;49m\u001b[38;5;241;43m.\u001b[39;49m\u001b[43mexecute_sql\u001b[49m\u001b[43m(\u001b[49m\u001b[43msql\u001b[49m\u001b[43m,\u001b[49m\u001b[43m \u001b[49m\u001b[43mparams\u001b[49m\u001b[43m)\u001b[49m\n",
      "File \u001b[0;32m~/Projects/Personal/ytai/.venv/lib/python3.12/site-packages/peewee.py:3309\u001b[0m, in \u001b[0;36mDatabase.execute_sql\u001b[0;34m(self, sql, params, commit)\u001b[0m\n\u001b[1;32m   3307\u001b[0m     __deprecated__(\u001b[38;5;124m'\u001b[39m\u001b[38;5;124m\"\u001b[39m\u001b[38;5;124mcommit\u001b[39m\u001b[38;5;124m\"\u001b[39m\u001b[38;5;124m has been deprecated and is a no-op.\u001b[39m\u001b[38;5;124m'\u001b[39m)\n\u001b[1;32m   3308\u001b[0m logger\u001b[38;5;241m.\u001b[39mdebug((sql, params))\n\u001b[0;32m-> 3309\u001b[0m \u001b[43m\u001b[49m\u001b[38;5;28;43;01mwith\u001b[39;49;00m\u001b[43m \u001b[49m\u001b[43m__exception_wrapper__\u001b[49m\u001b[43m:\u001b[49m\n\u001b[1;32m   3310\u001b[0m \u001b[43m    \u001b[49m\u001b[43mcursor\u001b[49m\u001b[43m \u001b[49m\u001b[38;5;241;43m=\u001b[39;49m\u001b[43m \u001b[49m\u001b[38;5;28;43mself\u001b[39;49m\u001b[38;5;241;43m.\u001b[39;49m\u001b[43mcursor\u001b[49m\u001b[43m(\u001b[49m\u001b[43m)\u001b[49m\n\u001b[1;32m   3311\u001b[0m \u001b[43m    \u001b[49m\u001b[43mcursor\u001b[49m\u001b[38;5;241;43m.\u001b[39;49m\u001b[43mexecute\u001b[49m\u001b[43m(\u001b[49m\u001b[43msql\u001b[49m\u001b[43m,\u001b[49m\u001b[43m \u001b[49m\u001b[43mparams\u001b[49m\u001b[43m \u001b[49m\u001b[38;5;129;43;01mor\u001b[39;49;00m\u001b[43m \u001b[49m\u001b[43m(\u001b[49m\u001b[43m)\u001b[49m\u001b[43m)\u001b[49m\n",
      "File \u001b[0;32m~/Projects/Personal/ytai/.venv/lib/python3.12/site-packages/peewee.py:3077\u001b[0m, in \u001b[0;36mExceptionWrapper.__exit__\u001b[0;34m(self, exc_type, exc_value, traceback)\u001b[0m\n\u001b[1;32m   3075\u001b[0m new_type \u001b[38;5;241m=\u001b[39m \u001b[38;5;28mself\u001b[39m\u001b[38;5;241m.\u001b[39mexceptions[exc_type\u001b[38;5;241m.\u001b[39m\u001b[38;5;18m__name__\u001b[39m]\n\u001b[1;32m   3076\u001b[0m exc_args \u001b[38;5;241m=\u001b[39m exc_value\u001b[38;5;241m.\u001b[39margs\n\u001b[0;32m-> 3077\u001b[0m \u001b[43mreraise\u001b[49m\u001b[43m(\u001b[49m\u001b[43mnew_type\u001b[49m\u001b[43m,\u001b[49m\u001b[43m \u001b[49m\u001b[43mnew_type\u001b[49m\u001b[43m(\u001b[49m\u001b[43mexc_value\u001b[49m\u001b[43m,\u001b[49m\u001b[43m \u001b[49m\u001b[38;5;241;43m*\u001b[39;49m\u001b[43mexc_args\u001b[49m\u001b[43m)\u001b[49m\u001b[43m,\u001b[49m\u001b[43m \u001b[49m\u001b[43mtraceback\u001b[49m\u001b[43m)\u001b[49m\n",
      "File \u001b[0;32m~/Projects/Personal/ytai/.venv/lib/python3.12/site-packages/peewee.py:196\u001b[0m, in \u001b[0;36mreraise\u001b[0;34m(tp, value, tb)\u001b[0m\n\u001b[1;32m    194\u001b[0m \u001b[38;5;28;01mdef\u001b[39;00m \u001b[38;5;21mreraise\u001b[39m(tp, value, tb\u001b[38;5;241m=\u001b[39m\u001b[38;5;28;01mNone\u001b[39;00m):\n\u001b[1;32m    195\u001b[0m     \u001b[38;5;28;01mif\u001b[39;00m value\u001b[38;5;241m.\u001b[39m__traceback__ \u001b[38;5;129;01mis\u001b[39;00m \u001b[38;5;129;01mnot\u001b[39;00m tb:\n\u001b[0;32m--> 196\u001b[0m         \u001b[38;5;28;01mraise\u001b[39;00m value\u001b[38;5;241m.\u001b[39mwith_traceback(tb)\n\u001b[1;32m    197\u001b[0m     \u001b[38;5;28;01mraise\u001b[39;00m value\n",
      "File \u001b[0;32m~/Projects/Personal/ytai/.venv/lib/python3.12/site-packages/peewee.py:3311\u001b[0m, in \u001b[0;36mDatabase.execute_sql\u001b[0;34m(self, sql, params, commit)\u001b[0m\n\u001b[1;32m   3309\u001b[0m \u001b[38;5;28;01mwith\u001b[39;00m __exception_wrapper__:\n\u001b[1;32m   3310\u001b[0m     cursor \u001b[38;5;241m=\u001b[39m \u001b[38;5;28mself\u001b[39m\u001b[38;5;241m.\u001b[39mcursor()\n\u001b[0;32m-> 3311\u001b[0m     \u001b[43mcursor\u001b[49m\u001b[38;5;241;43m.\u001b[39;49m\u001b[43mexecute\u001b[49m\u001b[43m(\u001b[49m\u001b[43msql\u001b[49m\u001b[43m,\u001b[49m\u001b[43m \u001b[49m\u001b[43mparams\u001b[49m\u001b[43m \u001b[49m\u001b[38;5;129;43;01mor\u001b[39;49;00m\u001b[43m \u001b[49m\u001b[43m(\u001b[49m\u001b[43m)\u001b[49m\u001b[43m)\u001b[49m\n\u001b[1;32m   3312\u001b[0m \u001b[38;5;28;01mreturn\u001b[39;00m cursor\n",
      "\u001b[0;31mIntegrityError\u001b[0m: UNIQUE constraint failed: video.yt_video_id"
     ]
    }
   ],
   "source": [
    "video = Video.create(\n",
    "    yt_video_id = video_id,\n",
    "    title = video_title,\n",
    "    channel = meta['channel']\n",
    ")"
   ]
  },
  {
   "cell_type": "code",
   "execution_count": 70,
   "metadata": {},
   "outputs": [
    {
     "data": {
      "text/plain": [
       "1"
      ]
     },
     "execution_count": 70,
     "metadata": {},
     "output_type": "execute_result"
    }
   ],
   "source": [
    "Video.update({Video.saved_on: datetime.now()}).where(Video.yt_video_id == video_id).execute()"
   ]
  },
  {
   "cell_type": "markdown",
   "metadata": {},
   "source": [
    "# Split yet unprocessed transcript into chunks"
   ]
  },
  {
   "cell_type": "markdown",
   "metadata": {},
   "source": [
    "A relatively small chunk size is used, as the model tends to ignore the middle part of the transcript, if it's too long. Probably because of \"Lost in the middle\".\n",
    "\n",
    "- https://arxiv.org/abs/2307.03172"
   ]
  },
  {
   "cell_type": "code",
   "execution_count": 74,
   "metadata": {},
   "outputs": [],
   "source": [
    "CHUNK_SIZE_FOR_UNPROCESSED_TRANSCRIPT = 932"
   ]
  },
  {
   "cell_type": "code",
   "execution_count": 82,
   "metadata": {},
   "outputs": [
    {
     "name": "stdout",
     "output_type": "stream",
     "text": [
      "Split unprocessed transcript into 2 chunks.\n",
      "Hi. Welcome to another system design video.\n",
      "What are the differences between bare metal,\n",
      "virtual machines, and containers?\n",
      "When deploying a modern application stack,\n",
      "how do we decide which one to use?\n",
      "In this video, we’ll take a closer look at each of these.\n",
      "Let’s dive right in.\n",
      "  The granddaddy of these is bare metal. \n",
      "A bare metal server is a physical computer\n",
      "that is a single tenant only.\n",
      "Once upon a time, all servers were bare metal.\n",
      "Bare metal gives us complete control \n",
      "over the hardware resources\n",
      "and the software stack to run.\n",
      "For software applications that require the absolute\n",
      "highest performance from the hardware,\n",
      "bare metal could be a good way to go.\n",
      "Bare metal servers are physically isolated.\n",
      "The isolation provides two benefits:\n",
      "First, it is not affected by the noisy neighbor problem.\n",
      "This problem occurs when one tenant's performance\n",
      "is impacted because of the activities\n",
      "of another tenant sharing the same hardware.\n",
      "Second, the isolation provides the highest level of security.\n",
      "For example, it is not affected by side-channel attacks.\n",
      "These attacks take advantage of the design flaws\n",
      "in modern microprocessors to allow a malicious tenant\n",
      "to steal secrets from its neighbors.\n",
      "This strong security guarantee\n",
      "is another reason to use bare metal.\n",
      "When an application needs to meet the most stringent\n",
      "security, compliance, or regulatory requirements,\n",
      "bare metal could sometimes be the only way to go.\n",
      "What are the downsides of bare metal?\n",
      "Bare metal is expensive, hard to manage,\n",
      "and hard to scale.\n",
      "Acquiring new hardware takes time,\n",
      "and it takes a competent team to manage them well.\n",
      "Next up is Virtual Machines.\n",
      "A virtual machine is the emulation of a physical computer.\n",
      "This is called virtualization.\n",
      "Many virtual machines can run on\n",
      "a single piece of bare metal hardware.\n",
      "On top of the bare metal hardware\n",
      "is the host operating system.\n",
      "Running on top of the host operating system\n",
      "is a special piece of software called a hypervisor.\n",
      "This is also known as a virtual machine monitor.\n",
      "The hypervisor manages virtual machines.\n",
      "It creates an abstraction layer over the hardware\n",
      "so that multiple operating systems can run\n",
      "alongside each other.\n",
      "Each virtual machine has its own guest operating system.\n",
      "On top of each guest operating system\n",
      "runs the applications for a tenant.\n",
      "As a side note:\n",
      "There is a concept called bare metal hypervisor,\n",
      "not to be confused with bare metal hardware.\n",
      "A bare metal hypervisor controls the hardware directly\n",
      "without relying on the host operating system.\n",
      "This gives the hypervisor full control\n",
      "over the hardware and provides higher performance.\n",
      "However, hardware that supports the bare metal hypervisor\n",
      "is more expensive.\n",
      "Virtual machines have come a long way\n",
      "in performance and scale.\n",
      "These days we can choose virtual machines of\n",
      "pretty much any size to fit our workloads,\n",
      "from general purpose ones with just a few cpu cores\n",
      "and a few GBs of memory,\n",
      "to high-performance ones with hundreds of cores\n",
      "and terabytes of memory.\n",
      "What are the benefits of virtual machines?\n",
      "Virtual machines are cheaper to run.\n",
      "Many of them can share the same hardware,\n",
      "allowing much higher resource utilization.\n",
      "They are easier to scale, too.\n",
      "This provides an organization more flexibility.\n",
      "Scaling up virtual machines is easier.\n",
      "Some fancy virtualization software can even move\n",
      "a running virtual machine from one bare metal\n",
      "hardware to another\n",
      "without shutting down the virtual machine.\n",
      "What are some of the downsides to virtual machines?\n",
      "Virtual machines could be vulnerable\n",
      "to the noisy neighbor problem described earlier.\n",
      "If our application co-locates with a resource hog of a neighbor, \n",
      "our own application performance could suffer.\n",
      "Also, virtual machines running on the same\n",
      "bare metal hardware share the same physical CPU cores.\n",
      "They are vulnerable to attacks that aim at design flaws\n",
      "in modern processors.\n",
      "Side-channel attacks like Meltdown and Spectre\n",
      "are some well-known examples.\n",
      "Next up - Containers.\n",
      "A container is a lightweight and standalone package\n",
      "of an application with all its dependencies\n",
      "like libraries, frameworks, and runtime.\n",
      "Containerization is considered to be a lightweight version\n",
      "of virtualization.\n",
      "Like virtualization, here we have bare metal hardware\n",
      "and the host operating system.\n",
      "But instead of virtualizing the hardware with a hypervisor,\n",
      "we virtualize the operating system itself\n",
      "---------\n",
      "and the host operating system.\n",
      "But instead of virtualizing the hardware with a hypervisor,\n",
      "we virtualize the operating system itself\n",
      "with a piece of special software called the container engine.\n",
      "On top of the container engine runs many containers.\n",
      "Each of these is its own application environment\n",
      "isolated from each other.\n",
      "The container engine provides even faster\n",
      "resource provisioning.\n",
      "And all the resources needed to run the application\n",
      "are packaged together,\n",
      "so that the applications can run anywhere.\n",
      "Containers are scalable and portable.\n",
      "They are lightweight and require less hardware resources\n",
      "to run than virtual machines.\n",
      "A bare metal server can host significantly\n",
      "more containers than virtual machines.\n",
      "Since each container runs\n",
      "as a native process of the host operating system,\n",
      "they are much faster to start, too.\n",
      "All these make containers even easier to deploy\n",
      "and maintain at scale.\n",
      "However, containers are potentially less secure.\n",
      "They share the same underlying operating system,\n",
      "and the isolation relies on the OS-level primitives.\n",
      "This means containers\n",
      "are exposed to a wider class of security vulnerabilities\n",
      "at the operating system level.\n",
      "It is possible to run containers inside virtual machines.\n",
      "Why would we want to do that?\n",
      "One reason is that it provides better security\n",
      "by reducing the possible attack surfaces.\n",
      "This is a tradeoff between flexibility and security.\n",
      "What comes after containers?\n",
      "Serverless and edge computing come to mind.\n",
      "They make the developer productivity\n",
      "and deployment stories even more compelling,\n",
      "but with their own sets of tradeoffs.\n",
      "We might look into these in another video.\n",
      "In conclusion, system design is about tradeoffs.\n",
      "It is no different when it comes to bare metal,\n",
      "virtual machines, and containers.\n",
      "There is no single right answer.\n",
      "If you would like to learn more about system design,\n",
      "check out our books and weekly newsletter.\n",
      "Please subscribe if you learned something new.\n",
      "Thank you so much, and we’ll see you next time.\n",
      "---------\n"
     ]
    }
   ],
   "source": [
    "from langchain_text_splitters import RecursiveCharacterTextSplitter\n",
    "\n",
    "text_splitter = RecursiveCharacterTextSplitter(\n",
    "    chunk_size=CHUNK_SIZE_FOR_UNPROCESSED_TRANSCRIPT,\n",
    "    chunk_overlap=32,\n",
    "    length_function=num_tokens_from_string,\n",
    "    is_separator_regex=False,\n",
    ")\n",
    "\n",
    "# Split the transcript into chunks \n",
    "transcript_excerpts = text_splitter.create_documents([transcript])\n",
    "print(f\"Split unprocessed transcript into {len(transcript_excerpts)} chunks.\")\n",
    "\n",
    "for t in transcript_excerpts:\n",
    "    print(t.page_content)\n",
    "    print(\"---------\")"
   ]
  },
  {
   "cell_type": "code",
   "execution_count": 76,
   "metadata": {},
   "outputs": [
    {
     "name": "stdout",
     "output_type": "stream",
     "text": [
      "The unprocessed transcript has 1212 tokens.\n"
     ]
    }
   ],
   "source": [
    "num_tokens_transcript = num_tokens_from_string(transcript, encoding_name=\"cl100k_base\")\n",
    "print_wrapped(f\"The unprocessed transcript has {num_tokens_transcript} tokens.\")"
   ]
  },
  {
   "cell_type": "markdown",
   "metadata": {},
   "source": [
    "# Initialize LLM and prompts"
   ]
  },
  {
   "cell_type": "markdown",
   "metadata": {},
   "source": [
    "## Option 1: OpenAI (GPT-3.5-turbo)"
   ]
  },
  {
   "cell_type": "code",
   "execution_count": 153,
   "metadata": {},
   "outputs": [],
   "source": [
    "from os import getenv\n",
    "from langchain_openai import ChatOpenAI\n",
    "from dotenv import load_dotenv\n",
    "\n",
    "load_dotenv()\n",
    "\n",
    "llm = ChatOpenAI(\n",
    "    api_key=getenv(\"OPENAI_API_KEY\"),\n",
    "    temperature=0.3,\n",
    "    model=\"gpt-3.5-turbo\",\n",
    "    max_tokens=2048\n",
    ")"
   ]
  },
  {
   "cell_type": "code",
   "execution_count": 78,
   "metadata": {},
   "outputs": [],
   "source": [
    "from langchain_core.prompts.chat import SystemMessage, HumanMessagePromptTemplate\n",
    "\n",
    "user_prompt = HumanMessagePromptTemplate.from_template(\n",
    "    \"\"\"Here is part {number}, delimited by ---\n",
    "\n",
    "    ---\n",
    "    {transcript_excerpt}\n",
    "    ---\n",
    "    \"\"\"\n",
    ")"
   ]
  },
  {
   "cell_type": "code",
   "execution_count": 79,
   "metadata": {},
   "outputs": [
    {
     "name": "stdout",
     "output_type": "stream",
     "text": [
      "Token number in system prompt: 85\n"
     ]
    }
   ],
   "source": [
    "system_prompt = \"You are giong to receive excerpts from an automatically generated video transcript. Your task is to convert every excerpt into structured text. Ensure that the content of the excerpts remains unchanged. Add appropriate punctuation, correct any grammatical errors, remove filler words and divide the text into logical paragraphs, separating them with a single new line. The final output should be in plain text and only include the modified transcript excerpt without any prelude.\"\n",
    "print(\"Token number in system prompt: \" + str(num_tokens_from_string(system_prompt)))"
   ]
  },
  {
   "cell_type": "markdown",
   "metadata": {},
   "source": [
    "# Process transcript"
   ]
  },
  {
   "cell_type": "code",
   "execution_count": 83,
   "metadata": {},
   "outputs": [],
   "source": [
    "batch_messages = []\n",
    "for num, excerpt in enumerate(transcript_excerpts):\n",
    "    batch_messages.append([\n",
    "        SystemMessage(content=system_prompt),\n",
    "        user_prompt.format(number=num, transcript_excerpt=excerpt.page_content)\n",
    "    ])\n",
    "response = llm.generate(batch_messages)"
   ]
  },
  {
   "cell_type": "code",
   "execution_count": 170,
   "metadata": {},
   "outputs": [
    {
     "ename": "AttributeError",
     "evalue": "'list' object has no attribute 'generations'",
     "output_type": "error",
     "traceback": [
      "\u001b[0;31m---------------------------------------------------------------------------\u001b[0m",
      "\u001b[0;31mAttributeError\u001b[0m                            Traceback (most recent call last)",
      "Cell \u001b[0;32mIn[170], line 1\u001b[0m\n\u001b[0;32m----> 1\u001b[0m result \u001b[38;5;241m=\u001b[39m  \u001b[38;5;124m\"\u001b[39m\u001b[38;5;130;01m\\n\u001b[39;00m\u001b[38;5;130;01m\\n\u001b[39;00m\u001b[38;5;124m\"\u001b[39m\u001b[38;5;241m.\u001b[39mjoin(gen[\u001b[38;5;241m0\u001b[39m]\u001b[38;5;241m.\u001b[39mtext \u001b[38;5;28;01mfor\u001b[39;00m gen \u001b[38;5;129;01min\u001b[39;00m \u001b[43mresponse\u001b[49m\u001b[38;5;241;43m.\u001b[39;49m\u001b[43mgenerations\u001b[49m)\n",
      "\u001b[0;31mAttributeError\u001b[0m: 'list' object has no attribute 'generations'"
     ]
    }
   ],
   "source": [
    "result =  \"\\n\\n\".join(gen[0].text for gen in response.generations)"
   ]
  },
  {
   "cell_type": "code",
   "execution_count": 87,
   "metadata": {},
   "outputs": [
    {
     "name": "stdout",
     "output_type": "stream",
     "text": [
      "The initial transcript has 1212 tokens.\n",
      "The response has 1180 tokens.\n"
     ]
    }
   ],
   "source": [
    "num_tokens_response = num_tokens_from_string(result, encoding_name=\"cl100k_base\")\n",
    "print(f\"The initial transcript has {num_tokens_transcript} tokens.\")\n",
    "print(f\"The response has {num_tokens_response} tokens.\")"
   ]
  },
  {
   "cell_type": "code",
   "execution_count": 89,
   "metadata": {},
   "outputs": [],
   "source": [
    "save_response_as_file(dir_name=\"transcripts_processed\", filename=video_title, file_content=result)"
   ]
  },
  {
   "cell_type": "code",
   "execution_count": 90,
   "metadata": {},
   "outputs": [
    {
     "data": {
      "text/plain": [
       "1"
      ]
     },
     "execution_count": 90,
     "metadata": {},
     "output_type": "execute_result"
    }
   ],
   "source": [
    "Video.update(\n",
    "    {\n",
    "        Video.preprocessed: True,\n",
    "        Video.transcript_token_num: num_tokens_transcript\n",
    "    }).where(Video.yt_video_id == video_id).execute()"
   ]
  },
  {
   "cell_type": "markdown",
   "metadata": {},
   "source": [
    "# Split the processed transcript"
   ]
  },
  {
   "cell_type": "code",
   "execution_count": 91,
   "metadata": {},
   "outputs": [],
   "source": [
    "CHUNK_SIZE_FOR_PROCESSED_TRANSCRIPT = 1024"
   ]
  },
  {
   "cell_type": "code",
   "execution_count": 92,
   "metadata": {},
   "outputs": [
    {
     "data": {
      "text/plain": [
       "1"
      ]
     },
     "execution_count": 92,
     "metadata": {},
     "output_type": "execute_result"
    }
   ],
   "source": [
    "Video.update(\n",
    "    {\n",
    "        Video.chunk_size: CHUNK_SIZE_FOR_PROCESSED_TRANSCRIPT\n",
    "    }).where(Video.yt_video_id == video_id).execute()"
   ]
  },
  {
   "cell_type": "code",
   "execution_count": 93,
   "metadata": {},
   "outputs": [
    {
     "name": "stdout",
     "output_type": "stream",
     "text": [
      "Hi. Welcome to another system design video.  What are the differences between bare metal, virtual machines, and containers? When\n",
      "deploying a modern application stack, how do we decide which one to use? In this video, we’ll take a closer look at each of\n",
      "these. Let’s dive right in.\n",
      "----------------\n",
      "The granddaddy of these is bare metal. A bare metal server is a physical computer that is a single tenant only. Once upon a\n",
      "time, all servers were bare metal. Bare metal gives us complete control over the hardware resources and the software stack to\n",
      "run. For software applications that require the absolute highest performance from the hardware, bare metal could be a good way\n",
      "to go. Bare metal servers are physically isolated. The isolation provides two benefits: First, it is not affected by the noisy\n",
      "neighbor problem. This problem occurs when one tenant's performance is impacted because of the activities of another tenant\n",
      "sharing the same hardware. Second, the isolation provides the highest level of security. For example, it is not affected by\n",
      "side-channel attacks. These attacks take advantage of the design flaws in modern microprocessors to allow a malicious tenant to\n",
      "steal secrets from its neighbors. This strong security guarantee is another reason to use bare metal. When an application needs\n",
      "to meet the\n",
      "----------------\n",
      "most stringent security, compliance, or regulatory requirements, bare metal could sometimes be the only way to go.\n",
      "----------------\n",
      "What are the downsides of bare metal? Bare metal is expensive, hard to manage, and hard to scale. Acquiring new hardware takes\n",
      "time, and it takes a competent team to manage them well.\n",
      "----------------\n",
      "Next up is Virtual Machines. A virtual machine is the emulation of a physical computer. This is called virtualization. Many\n",
      "virtual machines can run on a single piece of bare metal hardware. On top of the bare metal hardware is the host operating\n",
      "system. Running on top of the host operating system is a special piece of software called a hypervisor. This is also known as a\n",
      "virtual machine monitor. The hypervisor manages virtual machines. It creates an abstraction layer over the hardware so that\n",
      "multiple operating systems can run alongside each other. Each virtual machine has its own guest operating system. On top of each\n",
      "guest operating system runs the applications for a tenant. As a side note: There is a concept called bare metal hypervisor, not\n",
      "to be confused with bare metal hardware. A bare metal hypervisor controls the hardware directly without relying on the host\n",
      "operating system. This gives the hypervisor full control over the hardware and provides higher performance. However, hardware\n",
      "that supports the\n",
      "----------------\n",
      "bare metal hypervisor is more expensive. Virtual machines have come a long way in performance and scale. These days we can\n",
      "choose virtual machines of pretty much any size to fit our workloads, from general purpose ones with just a few CPU cores and a\n",
      "few GBs of memory, to high-performance ones with hundreds of cores and terabytes of memory.\n",
      "----------------\n",
      "What are the benefits of virtual machines? Virtual machines are cheaper to run. Many of them can share the same hardware,\n",
      "allowing much higher resource utilization. They are easier to scale, too. This provides an organization more flexibility.\n",
      "Scaling up virtual machines is easier. Some fancy virtualization software can even move a running virtual machine from one bare\n",
      "metal hardware to another without shutting down the virtual machine.  What are some of the downsides to virtual machines?\n",
      "Virtual machines could be vulnerable to the noisy neighbor problem described earlier. If our application co-locates with a\n",
      "resource hog of a neighbor, our own application performance could suffer. Also, virtual machines running on the same bare metal\n",
      "hardware share the same physical CPU cores. They are vulnerable to attacks that aim at design flaws in modern processors. Side-\n",
      "channel attacks like Meltdown and Spectre are some well-known examples.\n",
      "----------------\n",
      "Next up - Containers. A container is a lightweight and standalone package of an application with all its dependencies like\n",
      "libraries, frameworks, and runtime. Containerization is considered to be a lightweight version of virtualization. Like\n",
      "virtualization, here we have bare metal hardware and the host operating system. But instead of virtualizing the hardware with a\n",
      "hypervisor, we virtualize the operating system itself.\n",
      "----------------\n",
      "The host operating system. Instead of virtualizing the hardware with a hypervisor, we virtualize the operating system itself\n",
      "with a piece of special software called the container engine. On top of the container engine runs many containers. Each of these\n",
      "is its own application environment isolated from each other. The container engine provides even faster resource provisioning.\n",
      "All the resources needed to run the application are packaged together, so that the applications can run anywhere. Containers are\n",
      "scalable and portable. They are lightweight and require less hardware resources to run than virtual machines. A bare metal\n",
      "server can host significantly more containers than virtual machines. Since each container runs as a native process of the host\n",
      "operating system, they are much faster to start, too. All these make containers even easier to deploy and maintain at scale.\n",
      "----------------\n",
      "However, containers are potentially less secure. They share the same underlying operating system, and the isolation relies on\n",
      "the OS-level primitives. This means containers are exposed to a wider class of security vulnerabilities at the operating system\n",
      "level. It is possible to run containers inside virtual machines. Why would we want to do that? One reason is that it provides\n",
      "better security by reducing the possible attack surfaces. This is a tradeoff between flexibility and security.  What comes after\n",
      "containers? Serverless and edge computing come to mind. They make the developer productivity and deployment stories even more\n",
      "compelling, but with their own sets of tradeoffs. We might look into these in another video.\n",
      "----------------\n",
      "In conclusion, system design is about tradeoffs. It is no different when it comes to bare metal, virtual machines, and\n",
      "containers. There is no single right answer. If you would like to learn more about system design, check out our books and weekly\n",
      "newsletter. Please subscribe if you learned something new. Thank you so much, and we’ll see you next time.\n",
      "----------------\n"
     ]
    }
   ],
   "source": [
    "from langchain_text_splitters import RecursiveCharacterTextSplitter\n",
    "\n",
    "splitter = RecursiveCharacterTextSplitter(chunk_size=1024, chunk_overlap=0)\n",
    "chunks = splitter.create_documents([result])\n",
    "for chunk in chunks:\n",
    "    print_wrapped(chunk.page_content)\n",
    "    print(\"----------------\")"
   ]
  },
  {
   "cell_type": "markdown",
   "metadata": {},
   "source": [
    "# Create a vector DB"
   ]
  },
  {
   "cell_type": "markdown",
   "metadata": {},
   "source": [
    "## Option 1: OpenAI embeddings"
   ]
  },
  {
   "cell_type": "code",
   "execution_count": 94,
   "metadata": {},
   "outputs": [],
   "source": [
    "from langchain_openai import OpenAIEmbeddings\n",
    "\n",
    "# https://platform.openai.com/docs/models/embeddings\n",
    "embeddings = OpenAIEmbeddings(model=\"text-embedding-3-small\")"
   ]
  },
  {
   "cell_type": "code",
   "execution_count": 110,
   "metadata": {},
   "outputs": [],
   "source": [
    "import chromadb\n",
    "from langchain_chroma import Chroma\n",
    "from chromadb.config import Settings\n",
    "\n",
    "chroma_settings = Settings(allow_reset=True)\n",
    "chroma_client = chromadb.HttpClient(settings=chroma_settings)\n",
    "\n",
    "db = Chroma(\n",
    "    client=chroma_client, collection_name=f\"{video_id}_{CHUNK_SIZE_FOR_PROCESSED_TRANSCRIPT}\", embedding_function=embeddings\n",
    ")"
   ]
  },
  {
   "cell_type": "code",
   "execution_count": 111,
   "metadata": {},
   "outputs": [],
   "source": [
    "import uuid\n",
    "\n",
    "collection = chroma_client.get_or_create_collection(name=f\"{video_id}_{CHUNK_SIZE_FOR_PROCESSED_TRANSCRIPT}\")\n",
    "if collection.count() <= 0:\n",
    "    for d in chunks:\n",
    "        response = embeddings.embed_query(d.page_content)\n",
    "        collection.add(\n",
    "            ids=[str(uuid.uuid1())],\n",
    "            embeddings=[response],\n",
    "            documents=[d.page_content],\n",
    "            #metadatas=[d.metadata]\n",
    "        )"
   ]
  },
  {
   "cell_type": "markdown",
   "metadata": {},
   "source": [
    "# Test generation - answer a question"
   ]
  },
  {
   "cell_type": "code",
   "execution_count": 163,
   "metadata": {},
   "outputs": [],
   "source": [
    "question = \"What are the benefits of caontainers compared to virtual machines?\""
   ]
  },
  {
   "cell_type": "code",
   "execution_count": 164,
   "metadata": {},
   "outputs": [],
   "source": [
    "retriever = db.as_retriever(search_kwargs={\"k\": 3})\n",
    "relevant_docs = retriever.invoke(input=question)"
   ]
  },
  {
   "cell_type": "code",
   "execution_count": 165,
   "metadata": {},
   "outputs": [
    {
     "name": "stdout",
     "output_type": "stream",
     "text": [
      "The host operating system. Instead of virtualizing the hardware with a hypervisor, we virtualize the operating system itself\n",
      "with a piece of special software called the container engine. On top of the container engine runs many containers. Each of these\n",
      "is its own application environment isolated from each other. The container engine provides even faster resource provisioning.\n",
      "All the resources needed to run the application are packaged together, so that the applications can run anywhere. Containers are\n",
      "scalable and portable. They are lightweight and require less hardware resources to run than virtual machines. A bare metal\n",
      "server can host significantly more containers than virtual machines. Since each container runs as a native process of the host\n",
      "operating system, they are much faster to start, too. All these make containers even easier to deploy and maintain at scale.\n",
      "----------------------\n",
      "What are the benefits of virtual machines? Virtual machines are cheaper to run. Many of them can share the same hardware,\n",
      "allowing much higher resource utilization. They are easier to scale, too. This provides an organization more flexibility.\n",
      "Scaling up virtual machines is easier. Some fancy virtualization software can even move a running virtual machine from one bare\n",
      "metal hardware to another without shutting down the virtual machine.  What are some of the downsides to virtual machines?\n",
      "Virtual machines could be vulnerable to the noisy neighbor problem described earlier. If our application co-locates with a\n",
      "resource hog of a neighbor, our own application performance could suffer. Also, virtual machines running on the same bare metal\n",
      "hardware share the same physical CPU cores. They are vulnerable to attacks that aim at design flaws in modern processors. Side-\n",
      "channel attacks like Meltdown and Spectre are some well-known examples.\n",
      "----------------------\n",
      "However, containers are potentially less secure. They share the same underlying operating system, and the isolation relies on\n",
      "the OS-level primitives. This means containers are exposed to a wider class of security vulnerabilities at the operating system\n",
      "level. It is possible to run containers inside virtual machines. Why would we want to do that? One reason is that it provides\n",
      "better security by reducing the possible attack surfaces. This is a tradeoff between flexibility and security.  What comes after\n",
      "containers? Serverless and edge computing come to mind. They make the developer productivity and deployment stories even more\n",
      "compelling, but with their own sets of tradeoffs. We might look into these in another video.\n",
      "----------------------\n"
     ]
    }
   ],
   "source": [
    "for doc in relevant_docs:\n",
    "    print_wrapped(doc.page_content)\n",
    "    print(\"----------------------\")"
   ]
  },
  {
   "cell_type": "code",
   "execution_count": 166,
   "metadata": {},
   "outputs": [],
   "source": [
    "from langchain_core.prompts import PromptTemplate\n",
    "\n",
    "rag_prompt = PromptTemplate.from_template(\"\"\"Context: {context}\n",
    "                                          \n",
    "Answer the question based on the context provided above. Keep your answer ground in the facts of the context.\n",
    "If the context does not contain the facts to answer the question, apologize and say that you don't know the answer.\n",
    "                                          \n",
    "Here is the question: {question}\n",
    "\n",
    "\"\"\")"
   ]
  },
  {
   "cell_type": "code",
   "execution_count": 167,
   "metadata": {},
   "outputs": [],
   "source": [
    "def format_docs_for_context(docs):\n",
    "    return \"\\n\\n---\\n\\n\".join(doc.page_content for doc in docs)"
   ]
  },
  {
   "cell_type": "code",
   "execution_count": 168,
   "metadata": {},
   "outputs": [],
   "source": [
    "from langchain_core.output_parsers import StrOutputParser\n",
    "\n",
    "rag_chain = rag_prompt | llm | StrOutputParser()\n",
    "\n",
    "answer = rag_chain.invoke({\"question\": question, \"context\": format_docs_for_context(relevant_docs)})"
   ]
  },
  {
   "cell_type": "code",
   "execution_count": 169,
   "metadata": {},
   "outputs": [
    {
     "name": "stdout",
     "output_type": "stream",
     "text": [
      "The benefits of containers compared to virtual machines include faster resource provisioning, scalability, portability,\n",
      "lightweight nature requiring less hardware resources, and the ability to host significantly more containers on a bare metal\n",
      "server. Containers also start much faster as they run as native processes of the host operating system, making them easier to\n",
      "deploy and maintain at scale.\n"
     ]
    }
   ],
   "source": [
    "print_wrapped(answer)"
   ]
  },
  {
   "cell_type": "code",
   "execution_count": null,
   "metadata": {},
   "outputs": [],
   "source": []
  }
 ],
 "metadata": {
  "kernelspec": {
   "display_name": ".venv",
   "language": "python",
   "name": "python3"
  },
  "language_info": {
   "codemirror_mode": {
    "name": "ipython",
    "version": 3
   },
   "file_extension": ".py",
   "mimetype": "text/x-python",
   "name": "python",
   "nbconvert_exporter": "python",
   "pygments_lexer": "ipython3",
   "version": "3.12.3"
  }
 },
 "nbformat": 4,
 "nbformat_minor": 2
}
